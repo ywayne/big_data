{
  "nbformat": 4,
  "nbformat_minor": 0,
  "metadata": {
    "colab": {
      "name": "python-intro.ipynb",
      "version": "0.3.2",
      "provenance": [],
      "collapsed_sections": [
        "3GYCUIhqvnw3",
        "BYeXKLSmvnxM",
        "a_2SlNoavnxY",
        "Ae-CEuTYvnxg",
        "aYI_xjuTvnx4",
        "QzVVpxbcvnx7",
        "mg8boVffvnyD",
        "VPNNM5sQvnyE",
        "A6_-pYvTvnyK",
        "eKCYGfX6vnyp",
        "-x_zI3hnvnzC",
        "ik3xHTOMvnzr",
        "ct1q4hmvvnzt"
      ],
      "include_colab_link": true
    },
    "kernelspec": {
      "display_name": "Python 3",
      "language": "python",
      "name": "python3"
    },
    "language_info": {
      "codemirror_mode": {
        "name": "ipython",
        "version": 3
      },
      "file_extension": ".py",
      "mimetype": "text/x-python",
      "name": "python",
      "nbconvert_exporter": "python",
      "pygments_lexer": "ipython3",
      "version": "3.6.6"
    }
  },
  "cells": [
    {
      "cell_type": "markdown",
      "metadata": {
        "id": "view-in-github",
        "colab_type": "text"
      },
      "source": [
        "<a href=\"https://colab.research.google.com/github/ywayne/big_data/blob/master/python_intro.ipynb\" target=\"_parent\"><img src=\"https://colab.research.google.com/assets/colab-badge.svg\" alt=\"Open In Colab\"/></a>"
      ]
    },
    {
      "cell_type": "markdown",
      "metadata": {
        "colab_type": "text",
        "id": "2dBCV3amvnwP"
      },
      "source": [
        "# Scientific Python Basics"
      ]
    },
    {
      "cell_type": "markdown",
      "metadata": {
        "colab_type": "text",
        "id": "7XOfHxqUvnwR"
      },
      "source": [
        "Prepared by: Cindee Madison, Thomas Kluyver (Any errors are our own)  \n",
        "Thanks to: Justin Kitzes, Matt Davis"
      ]
    },
    {
      "cell_type": "markdown",
      "metadata": {
        "colab_type": "text",
        "id": "YPJ6yX5ovnwS"
      },
      "source": [
        "## 1. Individual things\n",
        "\n",
        "The most basic component of any programming language are \"things\", also called variables or\n",
        "(in special cases) objects.\n",
        "\n",
        "The most common basic \"things\" in Python are integers, floats, strings, booleans, and\n",
        "some special objects of various types. We'll meet many of these as we go through the lesson."
      ]
    },
    {
      "cell_type": "markdown",
      "metadata": {
        "colab_type": "text",
        "id": "VjvB8ctMvnwS"
      },
      "source": [
        "__TIP:__ To run the code in a cell quickly, press Ctrl-Enter."
      ]
    },
    {
      "cell_type": "markdown",
      "metadata": {
        "colab_type": "text",
        "id": "cJdK-1bhvnwV"
      },
      "source": [
        "__TIP:__ To quickly create a new cell below an existing one, type Ctrl-m then b.\n",
        "Other shortcuts for making, deleting, and moving cells are in the menubar at the top of the\n",
        "screen."
      ]
    },
    {
      "cell_type": "code",
      "metadata": {
        "id": "8h3IMyPYvNK7",
        "colab_type": "code",
        "colab": {}
      },
      "source": [
        ""
      ],
      "execution_count": 0,
      "outputs": []
    },
    {
      "cell_type": "code",
      "metadata": {
        "colab_type": "code",
        "id": "MWfxXHAjvnwX",
        "colab": {
          "base_uri": "https://localhost:8080/",
          "height": 35
        },
        "outputId": "1aff0956-fd6e-460a-f7c0-d42acb199839"
      },
      "source": [
        "# A thing\n",
        "2"
      ],
      "execution_count": 1,
      "outputs": [
        {
          "output_type": "execute_result",
          "data": {
            "text/plain": [
              "2"
            ]
          },
          "metadata": {
            "tags": []
          },
          "execution_count": 1
        }
      ]
    },
    {
      "cell_type": "code",
      "metadata": {
        "colab_type": "code",
        "id": "yMdpHlaOvnwZ",
        "colab": {}
      },
      "source": [
        "# Use print to show multiple things in the same cell\n",
        "# Note that you can use single or double quotes for strings\n",
        "print(2)\n",
        "print('hello')"
      ],
      "execution_count": 0,
      "outputs": []
    },
    {
      "cell_type": "code",
      "metadata": {
        "colab_type": "code",
        "id": "hHhRZTstvnwc",
        "colab": {
          "base_uri": "https://localhost:8080/",
          "height": 35
        },
        "outputId": "6929efc5-78a8-4d99-da3b-6c88187a429b"
      },
      "source": [
        "# Things can be stored as variables\n",
        "a = 2\n",
        "b = 'hello'\n",
        "c = True  # This is case sensitive\n",
        "print(a, b, c)"
      ],
      "execution_count": 2,
      "outputs": [
        {
          "output_type": "stream",
          "text": [
            "2 hello True\n"
          ],
          "name": "stdout"
        }
      ]
    },
    {
      "cell_type": "code",
      "metadata": {
        "colab_type": "code",
        "id": "mofIQzhVvnwe",
        "colab": {
          "base_uri": "https://localhost:8080/",
          "height": 71
        },
        "outputId": "4c6d0b5e-4fbb-4acc-c2cc-34976c186b67"
      },
      "source": [
        "# The type function tells us the type of thing we have\n",
        "print(type(a))\n",
        "print(type(b))\n",
        "print(type(c))"
      ],
      "execution_count": 3,
      "outputs": [
        {
          "output_type": "stream",
          "text": [
            "<class 'int'>\n",
            "<class 'str'>\n",
            "<class 'bool'>\n"
          ],
          "name": "stdout"
        }
      ]
    },
    {
      "cell_type": "code",
      "metadata": {
        "colab_type": "code",
        "id": "a2ge-ZVFvnwg",
        "colab": {
          "base_uri": "https://localhost:8080/",
          "height": 35
        },
        "outputId": "b7d61804-09b4-4962-bc5a-8dc54506f940"
      },
      "source": [
        "# What happens when a new variable point to a previous variable?\n",
        "a = 1\n",
        "b = a\n",
        "a = 2\n",
        "## What is b?\n",
        "print(b)"
      ],
      "execution_count": 4,
      "outputs": [
        {
          "output_type": "stream",
          "text": [
            "1\n"
          ],
          "name": "stdout"
        }
      ]
    },
    {
      "cell_type": "markdown",
      "metadata": {
        "colab_type": "text",
        "id": "8_6FVJ_Pvnwj"
      },
      "source": [
        "## 2. Commands that operate on things\n",
        "\n",
        "Just storing data in variables isn't much use to us. Right away, we'd like to start performing\n",
        "operations and manipulations on data and variables.\n",
        "\n",
        "There are three very common means of performing an operation on a thing."
      ]
    },
    {
      "cell_type": "markdown",
      "metadata": {
        "colab_type": "text",
        "id": "1V-0sH5kvnwl"
      },
      "source": [
        "### 2.1 Use an operator\n",
        "\n",
        "All of the basic math operators work like you think they should for numbers. They can also\n",
        "do some useful operations on other things, like strings. There are also boolean operators that\n",
        "compare quantities and give back a `bool` variable as a result."
      ]
    },
    {
      "cell_type": "code",
      "metadata": {
        "colab_type": "code",
        "id": "yFu59XDyvnwl",
        "colab": {}
      },
      "source": [
        "# Standard math operators work as expected on numbers\n",
        "a = 2\n",
        "b = 3\n",
        "print(a + b)\n",
        "print(a * b)\n",
        "print(a ** b)  # a to the power of b (a^b does something completely different!)\n",
        "print(a / b)   # Careful with dividing integers if you use Python 2"
      ],
      "execution_count": 0,
      "outputs": []
    },
    {
      "cell_type": "code",
      "metadata": {
        "colab_type": "code",
        "id": "yhqaU32Evnwq",
        "colab": {}
      },
      "source": [
        "# There are also operators for strings\n",
        "print('hello' + 'world')\n",
        "print('hello' * 3)\n",
        "#print('hello' / 3)  # You can't do this!"
      ],
      "execution_count": 0,
      "outputs": []
    },
    {
      "cell_type": "code",
      "metadata": {
        "colab_type": "code",
        "id": "DKfn3S6Nvnwv",
        "colab": {}
      },
      "source": [
        "# Boolean operators compare two things\n",
        "a = (1 > 3)\n",
        "b = (3 == 3)\n",
        "print(a)\n",
        "print(b)\n",
        "print(a or b)\n",
        "print(a and b)"
      ],
      "execution_count": 0,
      "outputs": []
    },
    {
      "cell_type": "markdown",
      "metadata": {
        "colab_type": "text",
        "id": "3GYCUIhqvnw3"
      },
      "source": [
        "### 2.2 Use a function\n",
        "\n",
        "These will be very familiar to anyone who has programmed in any language, and work like you\n",
        "would expect."
      ]
    },
    {
      "cell_type": "code",
      "metadata": {
        "colab_type": "code",
        "id": "22a9iaPpvnw4",
        "colab": {
          "base_uri": "https://localhost:8080/",
          "height": 71
        },
        "outputId": "a5bed3b2-55e1-4534-8e58-6541d42bdbca"
      },
      "source": [
        "# There are thousands of functions that operate on things\n",
        "print(type(3))\n",
        "print(len('hello'))\n",
        "print(round(3.3))"
      ],
      "execution_count": 5,
      "outputs": [
        {
          "output_type": "stream",
          "text": [
            "<class 'int'>\n",
            "5\n",
            "3\n"
          ],
          "name": "stdout"
        }
      ]
    },
    {
      "cell_type": "markdown",
      "metadata": {
        "colab_type": "text",
        "id": "BgT_UDo4vnw8"
      },
      "source": [
        "__TIP:__ To find out what a function does, you can type it's name and then a question mark to\n",
        "get a pop up help window. Or, to see what arguments it takes, you can type its name, an open\n",
        "parenthesis, and hit tab."
      ]
    },
    {
      "cell_type": "code",
      "metadata": {
        "colab_type": "code",
        "id": "07WTGITUvnw-",
        "colab": {
          "base_uri": "https://localhost:8080/",
          "height": 35
        },
        "outputId": "72e1634a-e822-4bcf-da7a-39945580cd78"
      },
      "source": [
        "round?\n",
        "#round(\n",
        "round(3.14159, 2)"
      ],
      "execution_count": 6,
      "outputs": [
        {
          "output_type": "execute_result",
          "data": {
            "text/plain": [
              "3.14"
            ]
          },
          "metadata": {
            "tags": []
          },
          "execution_count": 6
        }
      ]
    },
    {
      "cell_type": "markdown",
      "metadata": {
        "colab_type": "text",
        "id": "MaxWbTlgvnxB"
      },
      "source": [
        "__TIP:__ Many useful functions are not in the Python built in library, but are in external\n",
        "scientific packages. These need to be imported into your Python notebook (or program) before\n",
        "they can be used. Probably the most important of these are numpy and matplotlib."
      ]
    },
    {
      "cell_type": "code",
      "metadata": {
        "colab_type": "code",
        "id": "tddJAirxvnxC",
        "colab": {}
      },
      "source": [
        "# Many useful functions are in external packages\n",
        "# Let's meet numpy\n",
        "import numpy as np"
      ],
      "execution_count": 0,
      "outputs": []
    },
    {
      "cell_type": "code",
      "metadata": {
        "colab_type": "code",
        "id": "2WN5puOyvnxG",
        "colab": {
          "base_uri": "https://localhost:8080/",
          "height": 136
        },
        "outputId": "1b997d29-bd25-4779-a313-d209fc01ff9b"
      },
      "source": [
        "# To see what's in a package, type the name, a period, then hit tab\n",
        "#np?\n",
        " import numpy as np\n",
        "  np."
      ],
      "execution_count": 8,
      "outputs": [
        {
          "output_type": "error",
          "ename": "SyntaxError",
          "evalue": "ignored",
          "traceback": [
            "\u001b[0;36m  File \u001b[0;32m\"<ipython-input-8-df0eca0bfa5c>\"\u001b[0;36m, line \u001b[0;32m1\u001b[0m\n\u001b[0;31m    np.\u001b[0m\n\u001b[0m       ^\u001b[0m\n\u001b[0;31mSyntaxError\u001b[0m\u001b[0;31m:\u001b[0m invalid syntax\n"
          ]
        }
      ]
    },
    {
      "cell_type": "code",
      "metadata": {
        "colab_type": "code",
        "id": "iqAzpqJ2vnxJ",
        "colab": {
          "base_uri": "https://localhost:8080/",
          "height": 71
        },
        "outputId": "cbf3ca22-8da7-418d-e473-ee88b0972d03"
      },
      "source": [
        "# Some examples of numpy functions and \"things\"\n",
        "import numpy as np\n",
        "print(np.sqrt(4))\n",
        "print(np.pi)  # Not a function, just a variable\n",
        "print(np.sin(np.pi))"
      ],
      "execution_count": 10,
      "outputs": [
        {
          "output_type": "stream",
          "text": [
            "2.0\n",
            "3.141592653589793\n",
            "1.2246467991473532e-16\n"
          ],
          "name": "stdout"
        }
      ]
    },
    {
      "cell_type": "markdown",
      "metadata": {
        "colab_type": "text",
        "id": "BYeXKLSmvnxM"
      },
      "source": [
        "### 2.3 Use a method\n",
        "\n",
        "Before we get any farther into the Python language, we have to say a word about \"objects\". We\n",
        "will not be teaching object oriented programming in this workshop, but you will encounter objects\n",
        "throughout Python (in fact, even seemingly simple things like ints and strings are actually\n",
        "objects in Python).\n",
        "\n",
        "In the simplest terms, you can think of an object as a small bundled \"thing\" that contains within\n",
        "itself both data and functions that operate on that data. For example, strings in Python are\n",
        "objects that contain a set of characters and also various functions that operate on the set of\n",
        "characters. When bundled in an object, these functions are called \"methods\".\n",
        "\n",
        "Instead of the \"normal\" `function(arguments)` syntax, methods are called using the\n",
        "syntax `variable.method(arguments)`."
      ]
    },
    {
      "cell_type": "code",
      "metadata": {
        "colab_type": "code",
        "id": "vXFfllqSvnxO",
        "colab": {
          "base_uri": "https://localhost:8080/",
          "height": 35
        },
        "outputId": "bb287d38-fc3f-49a9-c6e5-f5a091f0d196"
      },
      "source": [
        "# A string is actually an object\n",
        "a = 'hello, world'\n",
        "print(type(a))"
      ],
      "execution_count": 11,
      "outputs": [
        {
          "output_type": "stream",
          "text": [
            "<class 'str'>\n"
          ],
          "name": "stdout"
        }
      ]
    },
    {
      "cell_type": "code",
      "metadata": {
        "colab_type": "code",
        "id": "Ur_4N6YZvnxS",
        "colab": {
          "base_uri": "https://localhost:8080/",
          "height": 53
        },
        "outputId": "633dae7c-576f-461e-b052-3c2b1eb2668e"
      },
      "source": [
        "# Objects have bundled methods\n",
        "#a.\n",
        "print(a.capitalize())\n",
        "print(a.replace('l', 'X'))"
      ],
      "execution_count": 12,
      "outputs": [
        {
          "output_type": "stream",
          "text": [
            "Hello, world\n",
            "heXXo, worXd\n"
          ],
          "name": "stdout"
        }
      ]
    },
    {
      "cell_type": "markdown",
      "metadata": {
        "colab_type": "text",
        "id": "a_2SlNoavnxY"
      },
      "source": [
        "### Exercise 1 - Conversion\n",
        "\n",
        "Throughout this lesson, we will successively build towards a program that will calculate the\n",
        "variance of some measurements,  in this case `Height in Metres`.  The first thing we want to do is convert from an antiquated measurement system.\n",
        "\n",
        "To change inches into metres we use the following equation (conversion factor is rounded)\n",
        "\n",
        "## $metre = \\frac{inches}{39}$\n",
        "\n",
        "1. Create a variable for the conversion factor, called `inches_in_metre`.\n",
        "1. Create a variable (`inches`) for your height in inches, as inaccurately as you want.\n",
        "2. Divide `inches` by `inches_in_metre`, and store the result in a new variable, `metres`.\n",
        "1. Print the result\n",
        "\n",
        "__Bonus__\n",
        "\n",
        "Convert from feet and inches to metres."
      ]
    },
    {
      "cell_type": "markdown",
      "metadata": {
        "colab_type": "text",
        "id": "mze4Uk11vnxa"
      },
      "source": [
        "__TIP:__ A 'gotcha' for all python 2 users (it was changed in python 3) is the result of integer division. To make it work the obvious way, either:\n",
        "\n",
        "1. `inches_in_metre = 39.`  (add the decimal to cast to a float, or use 39.4 to be more accurate)\n",
        "2. `from __future__ import division` -  Put this at the **top** of the code and it will work "
      ]
    },
    {
      "cell_type": "code",
      "metadata": {
        "colab_type": "code",
        "id": "zYt8xzoOvnxb",
        "colab": {
          "base_uri": "https://localhost:8080/",
          "height": 35
        },
        "outputId": "bbb67135-ee40-4a02-ccff-c162246e594e"
      },
      "source": [
        "from __future__ import division\n",
        "inches_in_metres = 39.4\n",
        "inches = 71\n",
        "metres = inches/inches_in_metres\n",
        "print(metres)"
      ],
      "execution_count": 15,
      "outputs": [
        {
          "output_type": "stream",
          "text": [
            "1.8020304568527918\n"
          ],
          "name": "stdout"
        }
      ]
    },
    {
      "cell_type": "markdown",
      "metadata": {
        "colab_type": "text",
        "id": "F96m_wNivnxf"
      },
      "source": [
        "## 3. Collections of things\n",
        "\n",
        "While it is interesting to explore your own height, in science we work with larger  slightly more complex datasets. In this example, we are interested in the characteristics and distribution of heights. Python provides us with a number of objects to handle collections of things.\n",
        "\n",
        "Probably 99% of your work in scientific Python will use one of four types of collections:\n",
        "`lists`, `tuples`, `dictionaries`, and `numpy arrays`. We'll look quickly at each of these and what\n",
        "they can do for you."
      ]
    },
    {
      "cell_type": "markdown",
      "metadata": {
        "colab_type": "text",
        "id": "Ae-CEuTYvnxg"
      },
      "source": [
        "### 3.1 Lists\n",
        "\n",
        "Lists are probably the handiest and most flexible type of container. \n",
        "\n",
        "Lists are declared with square brackets []. \n",
        "\n",
        "Individual elements of a list can be selected using the syntax `a[ind]`."
      ]
    },
    {
      "cell_type": "code",
      "metadata": {
        "colab_type": "code",
        "id": "YkazF22Hvnxh",
        "colab": {
          "base_uri": "https://localhost:8080/",
          "height": 35
        },
        "outputId": "e6c99423-b48e-4132-e155-22c9e2589fdb"
      },
      "source": [
        "# Lists are created with square bracket syntax\n",
        "a = ['blueberry', 'strawberry', 'pineapple']\n",
        "print(a, type(a))"
      ],
      "execution_count": 16,
      "outputs": [
        {
          "output_type": "stream",
          "text": [
            "['blueberry', 'strawberry', 'pineapple'] <class 'list'>\n"
          ],
          "name": "stdout"
        }
      ]
    },
    {
      "cell_type": "code",
      "metadata": {
        "colab_type": "code",
        "id": "WdyKMXYfvnxl",
        "colab": {
          "base_uri": "https://localhost:8080/",
          "height": 53
        },
        "outputId": "060d8608-199c-46b5-d6f1-e9fe3bb0fca3"
      },
      "source": [
        "# Lists (and all collections) are also indexed with square brackets\n",
        "# NOTE: The first index is zero, not one\n",
        "print(a[0])\n",
        "print(a[1])"
      ],
      "execution_count": 17,
      "outputs": [
        {
          "output_type": "stream",
          "text": [
            "blueberry\n",
            "strawberry\n"
          ],
          "name": "stdout"
        }
      ]
    },
    {
      "cell_type": "code",
      "metadata": {
        "colab_type": "code",
        "id": "Wqj5ASE6vnxo",
        "colab": {
          "base_uri": "https://localhost:8080/",
          "height": 53
        },
        "outputId": "4d02127c-80a3-43cb-a08d-28a4fe6d2ead"
      },
      "source": [
        "## You can also count from the end of the list\n",
        "print('last item is:', a[-1])\n",
        "print('second to last item is:', a[-2])"
      ],
      "execution_count": 18,
      "outputs": [
        {
          "output_type": "stream",
          "text": [
            "last item is: pineapple\n",
            "second to last item is: strawberry\n"
          ],
          "name": "stdout"
        }
      ]
    },
    {
      "cell_type": "code",
      "metadata": {
        "colab_type": "code",
        "id": "LPzPNV3Gvnxr",
        "colab": {
          "base_uri": "https://localhost:8080/",
          "height": 53
        },
        "outputId": "b6d9bf7e-9b66-4298-94ae-f8284ad73bf1"
      },
      "source": [
        "# you can access multiple items from a list by slicing, using a colon between indexes\n",
        "# NOTE: The end value is not inclusive\n",
        "print('a =', a)\n",
        "print('get first two:', a[0:2])"
      ],
      "execution_count": 19,
      "outputs": [
        {
          "output_type": "stream",
          "text": [
            "a = ['blueberry', 'strawberry', 'pineapple']\n",
            "get first two: ['blueberry', 'strawberry']\n"
          ],
          "name": "stdout"
        }
      ]
    },
    {
      "cell_type": "code",
      "metadata": {
        "colab_type": "code",
        "id": "NxAcBViovnxu",
        "colab": {
          "base_uri": "https://localhost:8080/",
          "height": 89
        },
        "outputId": "5e31b440-c3a7-422e-ab08-e28eb8da06ec"
      },
      "source": [
        "# You can leave off the start or end if desired\n",
        "print(a[:2])\n",
        "print(a[2:])\n",
        "print(a[:])\n",
        "print(a[:-1])"
      ],
      "execution_count": 20,
      "outputs": [
        {
          "output_type": "stream",
          "text": [
            "['blueberry', 'strawberry']\n",
            "['pineapple']\n",
            "['blueberry', 'strawberry', 'pineapple']\n",
            "['blueberry', 'strawberry']\n"
          ],
          "name": "stdout"
        }
      ]
    },
    {
      "cell_type": "code",
      "metadata": {
        "colab_type": "code",
        "id": "BkDD-QcLvnxx",
        "colab": {
          "base_uri": "https://localhost:8080/",
          "height": 71
        },
        "outputId": "8498d06a-e4b2-482b-9119-283c2a80e8d9"
      },
      "source": [
        "# Lists are objects, like everything else, and have methods such as append\n",
        "a.append('banana')\n",
        "print(a)\n",
        "\n",
        "a.append([1,2])\n",
        "print(a)\n",
        "\n",
        "a.pop()\n",
        "print(a)"
      ],
      "execution_count": 21,
      "outputs": [
        {
          "output_type": "stream",
          "text": [
            "['blueberry', 'strawberry', 'pineapple', 'banana']\n",
            "['blueberry', 'strawberry', 'pineapple', 'banana', [1, 2]]\n",
            "['blueberry', 'strawberry', 'pineapple', 'banana']\n"
          ],
          "name": "stdout"
        }
      ]
    },
    {
      "cell_type": "markdown",
      "metadata": {
        "colab_type": "text",
        "id": "5bOg5HVovnx0"
      },
      "source": [
        "__TIP:__ A 'gotcha' for some new Python users is that many collections, including lists,\n",
        "actually store pointers to data, not the data itself. \n",
        "\n",
        "Remember when we set `b=a` and then changed `a`?\n",
        "\n",
        "What happens when we do this in a list?\n",
        "\n",
        "__HELP:__ look into the `copy` module\n"
      ]
    },
    {
      "cell_type": "code",
      "metadata": {
        "colab_type": "code",
        "id": "EX2u3x7zvnx2",
        "colab": {
          "base_uri": "https://localhost:8080/",
          "height": 71
        },
        "outputId": "47af5e6a-63be-4a6b-8416-43d1c7761224"
      },
      "source": [
        "a = 1\n",
        "b = a\n",
        "a = 2\n",
        "## What is b?\n",
        "print('What is b?', b)\n",
        "\n",
        "a = [1, 2, 3]\n",
        "b = a\n",
        "print('original b', b)\n",
        "a[0] = 42\n",
        "print('What is b after we change a ?', b)"
      ],
      "execution_count": 22,
      "outputs": [
        {
          "output_type": "stream",
          "text": [
            "What is b? 1\n",
            "original b [1, 2, 3]\n",
            "What is b after we change a ? [42, 2, 3]\n"
          ],
          "name": "stdout"
        }
      ]
    },
    {
      "cell_type": "markdown",
      "metadata": {
        "colab_type": "text",
        "id": "aYI_xjuTvnx4"
      },
      "source": [
        "### EXERCISE 2 - Store a bunch of heights (in metres) in a list\n",
        "\n",
        "1. Ask five people around you for their heights (in metres).\n",
        "2. Store these in a list called `heights`.\n",
        "3. Append your own height, calculated above in the variable *metres*, to the list.\n",
        "4. Get the first height from the list and print it.\n",
        "\n",
        "__Bonus__\n",
        "\n",
        "1. Extract the last value in two different ways: first, by using the index for\n",
        "the last item in the list, and second, presuming that you do not know how long the list is.\n",
        "\n",
        "__HINT:__ **len()** can be used to find the length of a collection"
      ]
    },
    {
      "cell_type": "code",
      "metadata": {
        "colab_type": "code",
        "id": "G2rogWZ1vnx5",
        "colab": {
          "base_uri": "https://localhost:8080/",
          "height": 53
        },
        "outputId": "06bf596a-4beb-42cd-ab09-9b244e318c50"
      },
      "source": [
        "from __future__ import division\n",
        "heights = [1.65, 1.83, 1.60, 1.73, 1.80]\n",
        "heights.append(1.80)\n",
        "print(heights[0])\n",
        "print(heights)"
      ],
      "execution_count": 24,
      "outputs": [
        {
          "output_type": "stream",
          "text": [
            "1.65\n",
            "[1.65, 1.83, 1.6, 1.73, 1.8, 1.8]\n"
          ],
          "name": "stdout"
        }
      ]
    },
    {
      "cell_type": "markdown",
      "metadata": {
        "colab_type": "text",
        "id": "QzVVpxbcvnx7"
      },
      "source": [
        "### 3.2 Tuples\n",
        "\n",
        "We won't say a whole lot about tuples except to mention that they basically work just like lists, with\n",
        "two major exceptions:\n",
        "\n",
        "1. You declare tuples using () instead of []\n",
        "1. Once you make a tuple, you can't change what's in it (referred to as immutable)\n",
        "\n",
        "You'll see tuples come up throughout the Python language, and over time you'll develop a feel for when\n",
        "to use them. \n",
        "\n",
        "In general, they're often used instead of lists:\n",
        "\n",
        "1. to group items when the position in the collection is critical, such as coord = (x,y)\n",
        "1. when you want to make prevent accidental modification of the items, e.g. shape = (12,23)"
      ]
    },
    {
      "cell_type": "code",
      "metadata": {
        "colab_type": "code",
        "id": "McBq5-aUvnyA",
        "colab": {
          "base_uri": "https://localhost:8080/",
          "height": 226
        },
        "outputId": "cc18d32b-63f6-4c54-d02a-55d10f0832c1"
      },
      "source": [
        "xy = (23, 45)\n",
        "print(xy[0])\n",
        "xy[0] = \"this won't work with a tuple\""
      ],
      "execution_count": 25,
      "outputs": [
        {
          "output_type": "stream",
          "text": [
            "23\n"
          ],
          "name": "stdout"
        },
        {
          "output_type": "error",
          "ename": "TypeError",
          "evalue": "ignored",
          "traceback": [
            "\u001b[0;31m---------------------------------------------------------------------------\u001b[0m",
            "\u001b[0;31mTypeError\u001b[0m                                 Traceback (most recent call last)",
            "\u001b[0;32m<ipython-input-25-2b1e2849198f>\u001b[0m in \u001b[0;36m<module>\u001b[0;34m()\u001b[0m\n\u001b[1;32m      1\u001b[0m \u001b[0mxy\u001b[0m \u001b[0;34m=\u001b[0m \u001b[0;34m(\u001b[0m\u001b[0;36m23\u001b[0m\u001b[0;34m,\u001b[0m \u001b[0;36m45\u001b[0m\u001b[0;34m)\u001b[0m\u001b[0;34m\u001b[0m\u001b[0;34m\u001b[0m\u001b[0m\n\u001b[1;32m      2\u001b[0m \u001b[0mprint\u001b[0m\u001b[0;34m(\u001b[0m\u001b[0mxy\u001b[0m\u001b[0;34m[\u001b[0m\u001b[0;36m0\u001b[0m\u001b[0;34m]\u001b[0m\u001b[0;34m)\u001b[0m\u001b[0;34m\u001b[0m\u001b[0;34m\u001b[0m\u001b[0m\n\u001b[0;32m----> 3\u001b[0;31m \u001b[0mxy\u001b[0m\u001b[0;34m[\u001b[0m\u001b[0;36m0\u001b[0m\u001b[0;34m]\u001b[0m \u001b[0;34m=\u001b[0m \u001b[0;34m\"this won't work with a tuple\"\u001b[0m\u001b[0;34m\u001b[0m\u001b[0;34m\u001b[0m\u001b[0m\n\u001b[0m",
            "\u001b[0;31mTypeError\u001b[0m: 'tuple' object does not support item assignment"
          ]
        }
      ]
    },
    {
      "cell_type": "markdown",
      "metadata": {
        "colab_type": "text",
        "id": "mg8boVffvnyD"
      },
      "source": [
        "### Anatomy of a traceback error\n",
        "\n",
        "Traceback errors are `raised` when you try to do something with code it isn't meant to do.  It is also meant to be informative, but like many things, it is not always as informative as we would like.\n",
        "\n",
        "Looking at our error:\n",
        "\n",
        "    TypeError                                 Traceback (most recent call last)\n",
        "    <ipython-input-25-4d15943dd557> in <module>()\n",
        "          1 xy = (23, 45)\n",
        "          2 xy[0]\n",
        "    ----> 3 xy[0] = 'this wont work with a tuple'\n",
        "\n",
        "    TypeError: 'tuple' object does not support item assignment\n",
        "    \n",
        "1. The command you tried to run raise a **TypeError**  This suggests you are using a variable in a way that its **Type** doesnt support\n",
        "2. the arrow ----> points to the line where the error occurred, In this case on line 3 of your code form the above line.\n",
        "3. Learning how to **read** a traceback error is an important skill to develop, and helps you know how to ask questions about what has gone wrong in your code.\n",
        "\n",
        "\n"
      ]
    },
    {
      "cell_type": "markdown",
      "metadata": {
        "colab_type": "text",
        "id": "VPNNM5sQvnyE"
      },
      "source": [
        "### 3.3 Dictionaries\n",
        "\n",
        "Dictionaries are the collection to use when you want to store and retrieve things by their names\n",
        "(or some other kind of key) instead of by their position in the collection. A good example is a set\n",
        "of model parameters, each of which has a name and a value. Dictionaries are declared using {}."
      ]
    },
    {
      "cell_type": "code",
      "metadata": {
        "colab_type": "code",
        "id": "wAq2gCqpvnyF",
        "colab": {
          "base_uri": "https://localhost:8080/",
          "height": 53
        },
        "outputId": "2c17b8df-58f5-4b6b-8f7b-b48df8e8f92c"
      },
      "source": [
        "# Make a dictionary of model parameters\n",
        "convertors = {'inches_in_feet' : 12,\n",
        "              'inches_in_metre' : 39}\n",
        "\n",
        "print(convertors)\n",
        "print(convertors['inches_in_feet'])"
      ],
      "execution_count": 26,
      "outputs": [
        {
          "output_type": "stream",
          "text": [
            "{'inches_in_feet': 12, 'inches_in_metre': 39}\n",
            "12\n"
          ],
          "name": "stdout"
        }
      ]
    },
    {
      "cell_type": "code",
      "metadata": {
        "colab_type": "code",
        "id": "MtbgkstkvnyG",
        "colab": {
          "base_uri": "https://localhost:8080/",
          "height": 35
        },
        "outputId": "2d9979f0-681b-4ab3-d7fb-01b24a01ee95"
      },
      "source": [
        "## Add a new key:value pair\n",
        "convertors['metres_in_mile'] = 1609.34\n",
        "print(convertors)"
      ],
      "execution_count": 27,
      "outputs": [
        {
          "output_type": "stream",
          "text": [
            "{'inches_in_feet': 12, 'inches_in_metre': 39, 'metres_in_mile': 1609.34}\n"
          ],
          "name": "stdout"
        }
      ]
    },
    {
      "cell_type": "code",
      "metadata": {
        "colab_type": "code",
        "id": "OvRAlxw8vnyJ",
        "colab": {
          "base_uri": "https://localhost:8080/",
          "height": 172
        },
        "outputId": "85be7ba1-4d17-4a18-bd8e-569a36deede6"
      },
      "source": [
        "# Raise a KEY error\n",
        "print(convertors['blueberry'])"
      ],
      "execution_count": 28,
      "outputs": [
        {
          "output_type": "error",
          "ename": "KeyError",
          "evalue": "ignored",
          "traceback": [
            "\u001b[0;31m---------------------------------------------------------------------------\u001b[0m",
            "\u001b[0;31mKeyError\u001b[0m                                  Traceback (most recent call last)",
            "\u001b[0;32m<ipython-input-28-0eba419ed149>\u001b[0m in \u001b[0;36m<module>\u001b[0;34m()\u001b[0m\n\u001b[0;32m----> 1\u001b[0;31m \u001b[0mprint\u001b[0m\u001b[0;34m(\u001b[0m\u001b[0mconvertors\u001b[0m\u001b[0;34m[\u001b[0m\u001b[0;34m'blueberry'\u001b[0m\u001b[0;34m]\u001b[0m\u001b[0;34m)\u001b[0m\u001b[0;34m\u001b[0m\u001b[0;34m\u001b[0m\u001b[0m\n\u001b[0m",
            "\u001b[0;31mKeyError\u001b[0m: 'blueberry'"
          ]
        }
      ]
    },
    {
      "cell_type": "markdown",
      "metadata": {
        "colab_type": "text",
        "id": "A6_-pYvTvnyK"
      },
      "source": [
        "### 3.4 Numpy arrays (ndarrays)\n",
        "\n",
        "Even though numpy arrays (often written as ndarrays, for n-dimensional arrays) are not part of the\n",
        "core Python libraries, they are so useful in scientific Python that we'll include them here in the \n",
        "core lesson. Numpy arrays are collections of things, all of which must be the same type, that work\n",
        "similarly to lists (as we've described them so far). The most important are:\n",
        "\n",
        "1. You can easily perform elementwise operations (and matrix algebra) on arrays\n",
        "1. Arrays can be n-dimensional\n",
        "1. There is no equivalent to append, although arrays can be concatenated\n",
        "\n",
        "Arrays can be created from existing collections such as lists, or instantiated \"from scratch\" in a \n",
        "few useful ways.\n",
        "\n",
        "When getting started with scientific Python, you will probably want to try to use ndarrays whenever\n",
        "possible, saving the other types of collections for those cases when you have a specific reason to use\n",
        "them."
      ]
    },
    {
      "cell_type": "code",
      "metadata": {
        "colab_type": "code",
        "id": "7_60F7i1vnyL",
        "colab": {}
      },
      "source": [
        "# We need to import the numpy library to have access to it \n",
        "# We can also create an alias for a library, this is something you will commonly see with numpy\n",
        "import numpy as np"
      ],
      "execution_count": 0,
      "outputs": []
    },
    {
      "cell_type": "code",
      "metadata": {
        "colab_type": "code",
        "id": "ZaThVbHYvnyO",
        "colab": {
          "base_uri": "https://localhost:8080/",
          "height": 53
        },
        "outputId": "ea5c16cd-f7a5-4681-8609-7e027a16b0a7"
      },
      "source": [
        "# Make an array from a list\n",
        "alist = [2, 3, 4]\n",
        "blist = [5, 6, 7]\n",
        "a = np.array(alist)\n",
        "b = np.array(blist)\n",
        "print(a, type(a))\n",
        "print(b, type(b))"
      ],
      "execution_count": 29,
      "outputs": [
        {
          "output_type": "stream",
          "text": [
            "[2 3 4] <class 'numpy.ndarray'>\n",
            "[5 6 7] <class 'numpy.ndarray'>\n"
          ],
          "name": "stdout"
        }
      ]
    },
    {
      "cell_type": "code",
      "metadata": {
        "colab_type": "code",
        "id": "K11EjuYevnyQ",
        "colab": {
          "base_uri": "https://localhost:8080/",
          "height": 89
        },
        "outputId": "2cbad08e-2ae3-4c1d-fc87-86c3cc2627e2"
      },
      "source": [
        "# Do arithmetic on arrays\n",
        "print(a**2)\n",
        "print(np.sin(a))\n",
        "print(a * b)\n",
        "print(a.dot(b), np.dot(a, b))"
      ],
      "execution_count": 30,
      "outputs": [
        {
          "output_type": "stream",
          "text": [
            "[ 4  9 16]\n",
            "[ 0.90929743  0.14112001 -0.7568025 ]\n",
            "[10 18 28]\n",
            "56 56\n"
          ],
          "name": "stdout"
        }
      ]
    },
    {
      "cell_type": "code",
      "metadata": {
        "colab_type": "code",
        "id": "lIElkBMmvnyT",
        "colab": {
          "base_uri": "https://localhost:8080/",
          "height": 107
        },
        "outputId": "8e257a17-b53e-49fd-9d19-eeffa53748c2"
      },
      "source": [
        "# Boolean operators work on arrays too, and they return boolean arrays\n",
        "print(a > 2)\n",
        "print(b == 6)\n",
        "\n",
        "c = a > 2\n",
        "print(c)\n",
        "print(type(c))\n",
        "print(c.dtype)"
      ],
      "execution_count": 31,
      "outputs": [
        {
          "output_type": "stream",
          "text": [
            "[False  True  True]\n",
            "[False  True False]\n",
            "[False  True  True]\n",
            "<class 'numpy.ndarray'>\n",
            "bool\n"
          ],
          "name": "stdout"
        }
      ]
    },
    {
      "cell_type": "code",
      "metadata": {
        "colab_type": "code",
        "id": "sFgmyXbHvnyY",
        "colab": {
          "base_uri": "https://localhost:8080/",
          "height": 251
        },
        "outputId": "11aef922-89df-42dc-a14f-f893d79b8ef6"
      },
      "source": [
        "# Indexing arrays\n",
        "print(a[0:2])\n",
        "\n",
        "c = np.random.rand(3,3)\n",
        "print(c)\n",
        "print('\\n')\n",
        "print(c[1:3,0:2])\n",
        "\n",
        "c[0,:] = a\n",
        "print('\\n')\n",
        "print(c)"
      ],
      "execution_count": 39,
      "outputs": [
        {
          "output_type": "stream",
          "text": [
            "[2 3]\n",
            "[[0.51735649 0.22277301 0.89670525]\n",
            " [0.26364908 0.83479204 0.45041442]\n",
            " [0.73265804 0.95690826 0.682033  ]]\n",
            "\n",
            "\n",
            "[[0.26364908 0.83479204]\n",
            " [0.73265804 0.95690826]]\n",
            "\n",
            "\n",
            "[[2.         3.         4.        ]\n",
            " [0.26364908 0.83479204 0.45041442]\n",
            " [0.73265804 0.95690826 0.682033  ]]\n"
          ],
          "name": "stdout"
        }
      ]
    },
    {
      "cell_type": "code",
      "metadata": {
        "colab_type": "code",
        "id": "he17bu2Gvnye",
        "colab": {
          "base_uri": "https://localhost:8080/",
          "height": 125
        },
        "outputId": "2ea90f56-22d6-41c6-bfd8-bae4de2b42de"
      },
      "source": [
        "# Arrays can also be indexed with other boolean arrays\n",
        "a = np.array(alist)\n",
        "b = np.array(blist)\n",
        "print(a)\n",
        "print(b)\n",
        "print(a > 2)\n",
        "print(a[a > 1])\n",
        "print(b[a > 1])\n",
        "\n",
        "b[a == 4] = 77\n",
        "print(b)"
      ],
      "execution_count": 47,
      "outputs": [
        {
          "output_type": "stream",
          "text": [
            "[2 3 4]\n",
            "[5 6 7]\n",
            "[False  True  True]\n",
            "[2 3 4]\n",
            "[5 6 7]\n",
            "[ 5  6 77]\n"
          ],
          "name": "stdout"
        }
      ]
    },
    {
      "cell_type": "code",
      "metadata": {
        "colab_type": "code",
        "id": "y3y-oDLqvnyi",
        "colab": {
          "base_uri": "https://localhost:8080/",
          "height": 53
        },
        "outputId": "dcc3c458-dca9-4333-e343-8b2442fbe032"
      },
      "source": [
        "# ndarrays have attributes in addition to methods\n",
        "#c.\n",
        "print(c.shape)\n",
        "print(c.prod())"
      ],
      "execution_count": 49,
      "outputs": [
        {
          "output_type": "stream",
          "text": [
            "(3, 3)\n",
            "1.1376406734049649\n"
          ],
          "name": "stdout"
        }
      ]
    },
    {
      "cell_type": "code",
      "metadata": {
        "colab_type": "code",
        "id": "lMq_7TZBvnyk",
        "colab": {
          "base_uri": "https://localhost:8080/",
          "height": 197
        },
        "outputId": "2052c35d-6816-4cc1-85f9-1bd77b70214c"
      },
      "source": [
        "# There are handy ways to make arrays full of ones and zeros\n",
        "print(np.zeros(5), '\\n')\n",
        "print(np.ones(5), '\\n')\n",
        "print(np.identity(5), '\\n')"
      ],
      "execution_count": 50,
      "outputs": [
        {
          "output_type": "stream",
          "text": [
            "[0. 0. 0. 0. 0.] \n",
            "\n",
            "[1. 1. 1. 1. 1.] \n",
            "\n",
            "[[1. 0. 0. 0. 0.]\n",
            " [0. 1. 0. 0. 0.]\n",
            " [0. 0. 1. 0. 0.]\n",
            " [0. 0. 0. 1. 0.]\n",
            " [0. 0. 0. 0. 1.]] \n",
            "\n"
          ],
          "name": "stdout"
        }
      ]
    },
    {
      "cell_type": "code",
      "metadata": {
        "colab_type": "code",
        "id": "iHtWM_8ovnyn",
        "colab": {
          "base_uri": "https://localhost:8080/",
          "height": 35
        },
        "outputId": "4766d78c-5877-4125-e1cd-945533eaad81"
      },
      "source": [
        "# You can also easily make arrays of number sequences\n",
        "print(np.arange(0, 10, 2))"
      ],
      "execution_count": 51,
      "outputs": [
        {
          "output_type": "stream",
          "text": [
            "[0 2 4 6 8]\n"
          ],
          "name": "stdout"
        }
      ]
    },
    {
      "cell_type": "markdown",
      "metadata": {
        "colab_type": "text",
        "id": "eKCYGfX6vnyp"
      },
      "source": [
        "### EXERCISE 3 - Using Arrays for simple analysis\n",
        "\n",
        "Revisit your list of heights\n",
        "\n",
        "1. turn it into an array\n",
        "2. calculate the mean\n",
        "3. create a mask of all heights greater than a certain value (your choice)\n",
        "4. find the mean of the masked heights\n",
        "\n",
        "__BONUS__\n",
        "\n",
        "1. find the number of heights greater than your threshold\n",
        "2. mean() can take an optional argument called axis, which allows you to calculate the mean across different axes, eg across rows or across columns. Create an array with two dimensions (not equal sized) and calculate the mean across rows and mean across columns. Use 'shape' to understand how the means are calculated.\n"
      ]
    },
    {
      "cell_type": "code",
      "metadata": {
        "colab_type": "code",
        "id": "Ium7tQubvnyr",
        "colab": {
          "base_uri": "https://localhost:8080/",
          "height": 71
        },
        "outputId": "8648c920-9a25-40ee-c1c3-30557dfadc8c"
      },
      "source": [
        "import numpy as np\n",
        "from __future__ import division\n",
        "heights = [1.65, 1.83, 1.60, 1.73, 1.80]\n",
        "aheights = np.array(heights)\n",
        "def mean(aheights):\n",
        "  length = aheights.shape[0]\n",
        "  total_all = 0\n",
        "  for i in range(length):\n",
        "    total_all += aheights[i]\n",
        "    mean = total_all/length\n",
        "  return mean\n",
        "mean_all = mean(aheights)\n",
        "print(\"the mean height of all collected heihgtes is: \", mean_all)\n",
        "threshold = 1.72\n",
        "heights_masked = aheights[aheights > threshold]\n",
        "mean_mask = mean(heights_masked)\n",
        "print(\"the mean height of masked heights is: \", mean_all)\n",
        "print(\"number of heights greater than the threshold is: \", heights_masked.shape[0])\n",
        "\n",
        "\n"
      ],
      "execution_count": 73,
      "outputs": [
        {
          "output_type": "stream",
          "text": [
            "the mean height of all collected heihgtes is:  1.7220000000000002\n",
            "the mean height of masked heights is:  1.7220000000000002\n",
            "number of heights greater than the threshold is:  3\n"
          ],
          "name": "stdout"
        }
      ]
    },
    {
      "cell_type": "markdown",
      "metadata": {
        "colab_type": "text",
        "id": "DPa5n14Yvnyt"
      },
      "source": [
        "## 4. Repeating yourself\n",
        "\n",
        "So far, everything that we've done could, in principle, be done by hand calculation. In this section\n",
        "and the next, we really start to take advantage of the power of programming languages to do things\n",
        "for us automatically.\n",
        "\n",
        "We start here with ways to repeat yourself. The two most common ways of doing this are known as for\n",
        "loops and while loops. For loops in Python are useful when you want to cycle over all of the items\n",
        "in a collection (such as all of the elements of an array), and while loops are useful when you want to\n",
        "cycle for an indefinite amount of time until some condition is met.\n",
        "\n",
        "The basic examples below will work for looping over lists, tuples, and arrays. Looping over dictionaries\n",
        "is a bit different, since there is a key and a value for each item in a dictionary. Have a look at the\n",
        "Python docs for more information."
      ]
    },
    {
      "cell_type": "code",
      "metadata": {
        "colab_type": "code",
        "id": "hyF3MndTvnyt",
        "colab": {}
      },
      "source": [
        "# A basic for loop - don't forget the white space!\n",
        "wordlist = ['hi', 'hello', 'bye']\n",
        "for word in wordlist:\n",
        "    print(word + '!')"
      ],
      "execution_count": 0,
      "outputs": []
    },
    {
      "cell_type": "markdown",
      "metadata": {
        "colab_type": "text",
        "id": "_doXdbBsvnyv"
      },
      "source": [
        "**Note on indentation**: Notice the indentation once we enter the for loop.  Every idented statement after the for loop declaration is part of the for loop.  This rule holds true for while loops, if statements, functions, etc. Required identation is one of the reasons Python is such a beautiful language to read.\n",
        "\n",
        "If you do not have consistent indentation you will get an `IndentationError`.  Fortunately, most code editors will ensure your indentation is correction.\n",
        "\n",
        "__NOTE__ In Python the default is to use four (4) spaces for each indentation, most editros can be configured to follow this guide."
      ]
    },
    {
      "cell_type": "code",
      "metadata": {
        "colab_type": "code",
        "id": "cCBLCdVnvnyw",
        "colab": {}
      },
      "source": [
        "# Indentation error: Fix it!\n",
        "for word in wordlist:\n",
        "    new_word = word.capitalize()\n",
        "   print(new_word + '!') # Bad indent"
      ],
      "execution_count": 0,
      "outputs": []
    },
    {
      "cell_type": "code",
      "metadata": {
        "colab_type": "code",
        "id": "Y9lELA2Ovny1",
        "colab": {
          "base_uri": "https://localhost:8080/",
          "height": 35
        },
        "outputId": "16d44e58-992f-4d61-d75f-c240ab0449ad"
      },
      "source": [
        "# Sum all of the values in a collection using a for loop\n",
        "numlist = [1, 4, 77, 3]\n",
        "\n",
        "total = 0\n",
        "for num in numlist:\n",
        "    total = total + num\n",
        "    \n",
        "print(\"Sum is\", total)"
      ],
      "execution_count": 74,
      "outputs": [
        {
          "output_type": "stream",
          "text": [
            "Sum is 85\n"
          ],
          "name": "stdout"
        }
      ]
    },
    {
      "cell_type": "code",
      "metadata": {
        "colab_type": "code",
        "id": "qdBlUfSHvny5",
        "colab": {
          "base_uri": "https://localhost:8080/",
          "height": 89
        },
        "outputId": "0885d199-d776-4066-f78a-5bff1e7d0dc4"
      },
      "source": [
        "# Often we want to loop over the indexes of a collection, not just the items\n",
        "wordlist = ['hi', 'hello', 'bye']\n",
        "print(wordlist)\n",
        "\n",
        "for i, word in enumerate(wordlist):\n",
        "    print(i, word, wordlist[i])"
      ],
      "execution_count": 76,
      "outputs": [
        {
          "output_type": "stream",
          "text": [
            "['hi', 'hello', 'bye']\n",
            "0 hi hi\n",
            "1 hello hello\n",
            "2 bye bye\n"
          ],
          "name": "stdout"
        }
      ]
    },
    {
      "cell_type": "code",
      "metadata": {
        "colab_type": "code",
        "id": "F80IZt3wvny9",
        "colab": {
          "base_uri": "https://localhost:8080/",
          "height": 161
        },
        "outputId": "8ac6cdd0-c415-4a74-ef4e-5aa233d037cd"
      },
      "source": [
        "# While loops are useful when you don't know how many steps you will need,\n",
        "# and want to stop once a certain condition is met.\n",
        "step = 0\n",
        "prod = 1\n",
        "while prod < 100:\n",
        "    step = step + 1\n",
        "    prod = prod * 2\n",
        "    print(step, prod)\n",
        "    \n",
        "print('Reached a product of', prod, 'at step number', step)"
      ],
      "execution_count": 77,
      "outputs": [
        {
          "output_type": "stream",
          "text": [
            "1 2\n",
            "2 4\n",
            "3 8\n",
            "4 16\n",
            "5 32\n",
            "6 64\n",
            "7 128\n",
            "Reached a product of 128 at step number 7\n"
          ],
          "name": "stdout"
        }
      ]
    },
    {
      "cell_type": "markdown",
      "metadata": {
        "colab_type": "text",
        "id": "rJGawcPvvnzA"
      },
      "source": [
        "__TIP:__ Once we start really generating useful and large collections of data, it becomes unwieldy to\n",
        "inspect our results manually. The code below shows how to make a very simple plot of an array.\n",
        "We'll do much more plotting later on, this is just to get started."
      ]
    },
    {
      "cell_type": "code",
      "metadata": {
        "colab_type": "code",
        "id": "8v1EGTj1vnzB",
        "colab": {
          "base_uri": "https://localhost:8080/",
          "height": 287
        },
        "outputId": "6fcc0c79-7474-40e4-dfd4-352b2702a64a"
      },
      "source": [
        "# Load up pylab, a useful plotting library\n",
        "%matplotlib inline\n",
        "import matplotlib.pyplot as plt\n",
        "\n",
        "# Make some x and y data and plot it\n",
        "y = np.arange(100)**2\n",
        "plt.plot(y)"
      ],
      "execution_count": 78,
      "outputs": [
        {
          "output_type": "execute_result",
          "data": {
            "text/plain": [
              "[<matplotlib.lines.Line2D at 0x7f8fd4fc2ef0>]"
            ]
          },
          "metadata": {
            "tags": []
          },
          "execution_count": 78
        },
        {
          "output_type": "display_data",
          "data": {
            "image/png": "[encoded data removed]",
            "text/plain": [
              "<Figure size 432x288 with 1 Axes>"
            ]
          },
          "metadata": {
            "tags": []
          }
        }
      ]
    },
    {
      "cell_type": "markdown",
      "metadata": {
        "colab_type": "text",
        "id": "-x_zI3hnvnzC"
      },
      "source": [
        "### EXERCISE 4 - Variance\n",
        "\n",
        "We can now calculate the variance of the heights we collected before.\n",
        "\n",
        "As a reminder, **sample variance** is the calculated from the sum of squared differences of each observation from the mean:\n",
        "\n",
        "### $variance = \\frac{\\Sigma{(x-mean)^2}}{n-1}$\n",
        "\n",
        "where **mean** is the mean of our observations, **x** is each individual observation, and **n** is the number of observations.\n",
        "\n",
        "First, we need to calculate the mean:\n",
        "\n",
        "1. Create a variable `total` for the sum of the heights.\n",
        "2. Using a `for` loop, add each height to `total`.\n",
        "3. Find the mean by dividing this by the number of measurements, and store it as `mean`.\n",
        "\n",
        "__Note__: To get the number of things in a list, use `len(the_list)`.\n",
        "\n",
        "Now we'll use another loop to calculate the variance:\n",
        "\n",
        "1. Create a variable `sum_diffsq` for the sum of squared differences.\n",
        "2. Make a second `for` loop over `heights`.\n",
        "  - At each step, subtract the height from the mean and call it `diff`. \n",
        "  - Square this and call it `diffsq`.\n",
        "  - Add `diffsq` on to `sum_diffsq`.\n",
        "3. Divide `diffsq` by `n-1` to get the variance.\n",
        "4. Display the variance.\n",
        "\n",
        "__Note__: To square a number in Python, use `**`, eg. `5**2`.\n",
        "\n",
        "__Bonus__\n",
        "\n",
        "1. Test whether `variance` is larger than 0.01, and print out a line that says \"variance more than 0.01: \"\n",
        "followed by the answer (either True or False)."
      ]
    },
    {
      "cell_type": "code",
      "metadata": {
        "colab_type": "code",
        "id": "Z2yR6zNIvnzE",
        "colab": {
          "base_uri": "https://localhost:8080/",
          "height": 53
        },
        "outputId": "4398916f-9860-4f59-c97b-3c2c3221da3f"
      },
      "source": [
        "import numpy as np\n",
        "from __future__ import division\n",
        "heights = [1.65, 1.83, 1.60, 1.73, 1.80]\n",
        "total = 0\n",
        "for i in heights:\n",
        "        total += i\n",
        "mean = total/len(heights)\n",
        "sum_diffsq = 0\n",
        "for i in heights:\n",
        "        diff = i-mean\n",
        "        diffsq = diff**2\n",
        "        sum_diffsq += diffsq\n",
        "variance = sum_diffsq/(len(heights)-1)\n",
        "print(\"the variance of heights is: \", variance)\n",
        "print(\"variance more than 0.01: \", variance > 0.01)\n",
        "                                                   \n"
      ],
      "execution_count": 80,
      "outputs": [
        {
          "output_type": "stream",
          "text": [
            "the variance of heights is:  0.009470000000000003\n",
            "variance more than 0.01:  False\n"
          ],
          "name": "stdout"
        }
      ]
    },
    {
      "cell_type": "code",
      "metadata": {
        "id": "knCvk5HlKxIE",
        "colab_type": "code",
        "colab": {}
      },
      "source": [
        ""
      ],
      "execution_count": 0,
      "outputs": []
    },
    {
      "cell_type": "markdown",
      "metadata": {
        "colab_type": "text",
        "id": "bx1ER3CIvnzI"
      },
      "source": [
        "## 5. Making choices\n",
        "\n",
        "Often we want to check if a condition is True and take one action if it is, and another action if the\n",
        "condition is False. We can achieve this in Python with an if statement.\n",
        "\n",
        "__TIP:__ You can use any expression that returns a boolean value (True or False) in an if statement.\n",
        "Common boolean operators are ==, !=, <, <=, >, >=. You can also use `is` and `is not` if you want to\n",
        "check if two variables are identical in the sense that they are stored in the same location in memory."
      ]
    },
    {
      "cell_type": "code",
      "metadata": {
        "colab_type": "code",
        "id": "Ka4QThHjvnzJ",
        "colab": {
          "base_uri": "https://localhost:8080/",
          "height": 35
        },
        "outputId": "a3fc07cd-0c9f-4be7-ce6e-4a9e263f5ef4"
      },
      "source": [
        "# A simple if statement\n",
        "x = -5\n",
        "if x > 0:\n",
        "    print('x is positive')\n",
        "elif x < 0:\n",
        "    print('x is negative')\n",
        "else:\n",
        "    print('x is zero')"
      ],
      "execution_count": 83,
      "outputs": [
        {
          "output_type": "stream",
          "text": [
            "x is negative\n"
          ],
          "name": "stdout"
        }
      ]
    },
    {
      "cell_type": "code",
      "metadata": {
        "colab_type": "code",
        "id": "KSH9A0wsvnzO",
        "colab": {
          "base_uri": "https://localhost:8080/",
          "height": 53
        },
        "outputId": "8a392d8e-0bc4-4f71-b926-d6fed8cf9845"
      },
      "source": [
        "# If statements can rely on boolean variables\n",
        "x = -1\n",
        "test = (x > 0)\n",
        "print(type(test)); print(test)\n",
        "\n",
        "if test:\n",
        "    print('Test was true')"
      ],
      "execution_count": 84,
      "outputs": [
        {
          "output_type": "stream",
          "text": [
            "<class 'bool'>\n",
            "False\n"
          ],
          "name": "stdout"
        }
      ]
    },
    {
      "cell_type": "markdown",
      "metadata": {
        "colab_type": "text",
        "id": "JIlKIrIevnzR"
      },
      "source": [
        "## 6. Creating chunks with functions and modules\n",
        "\n",
        "One way to write a program is to simply string together commands, like the ones described above, in a long\n",
        "file, and then to run that file to generate your results. This may work, but it can be cognitively difficult\n",
        "to follow the logic of programs written in this style. Also, it does not allow you to reuse your code\n",
        "easily - for example, what if we wanted to run our logistic growth model for several different choices of\n",
        "initial parameters?\n",
        "\n",
        "The most important ways to \"chunk\" code into more manageable pieces is to create functions and then\n",
        "to gather these functions into modules, and eventually packages. Below we will discuss how to create\n",
        "functions and modules. A third common type of \"chunk\" in Python is classes, but we will not be covering\n",
        "object-oriented programming in this workshop."
      ]
    },
    {
      "cell_type": "code",
      "metadata": {
        "colab_type": "code",
        "id": "TLWXoozGvnzR",
        "colab": {}
      },
      "source": [
        "# We've been using functions all day\n",
        "x = 3.333333\n",
        "print(round(x, 2))\n",
        "print(np.sin(x))"
      ],
      "execution_count": 0,
      "outputs": []
    },
    {
      "cell_type": "code",
      "metadata": {
        "colab_type": "code",
        "id": "9c0SOODKvnzT",
        "colab": {}
      },
      "source": [
        "# It's very easy to write your own functions\n",
        "def multiply(x, y):\n",
        "    return x*y"
      ],
      "execution_count": 0,
      "outputs": []
    },
    {
      "cell_type": "code",
      "metadata": {
        "colab_type": "code",
        "id": "mGCdZBfFvnzW",
        "colab": {}
      },
      "source": [
        "# Once a function is \"run\" and saved in memory, it's available just like any other function\n",
        "print(type(multiply))\n",
        "print(multiply(4, 3))"
      ],
      "execution_count": 0,
      "outputs": []
    },
    {
      "cell_type": "code",
      "metadata": {
        "colab_type": "code",
        "id": "5GmzuyoVvnzZ",
        "colab": {}
      },
      "source": [
        "# It's useful to include docstrings to describe what your function does\n",
        "def say_hello(time, people):\n",
        "    '''\n",
        "    Function says a greeting. Useful for engendering goodwill\n",
        "    '''\n",
        "    return 'Good ' + time + ', ' + people"
      ],
      "execution_count": 0,
      "outputs": []
    },
    {
      "cell_type": "markdown",
      "metadata": {
        "colab_type": "text",
        "id": "23_FyrQvvnzb"
      },
      "source": [
        "**Docstrings**: A docstring is a special type of comment that tells you what a function does.  You can see them when you ask for help about a function."
      ]
    },
    {
      "cell_type": "code",
      "metadata": {
        "colab_type": "code",
        "id": "pHyahFNmvnzc",
        "colab": {
          "base_uri": "https://localhost:8080/",
          "height": 35
        },
        "outputId": "83d36a8e-7360-47f9-a9bb-6a25dd859dce"
      },
      "source": [
        "say_hello('afternoon', 'friends')"
      ],
      "execution_count": 86,
      "outputs": [
        {
          "output_type": "execute_result",
          "data": {
            "text/plain": [
              "'Good afternoon, friends'"
            ]
          },
          "metadata": {
            "tags": []
          },
          "execution_count": 86
        }
      ]
    },
    {
      "cell_type": "code",
      "metadata": {
        "colab_type": "code",
        "id": "3MTOyq9dvnzf",
        "colab": {
          "base_uri": "https://localhost:8080/",
          "height": 172
        },
        "outputId": "beadc187-59d0-44ad-b94e-c174b5b9ec33"
      },
      "source": [
        "# All arguments must be present, or the function will return an error\n",
        "say_hello('afternoon')"
      ],
      "execution_count": 87,
      "outputs": [
        {
          "output_type": "error",
          "ename": "TypeError",
          "evalue": "ignored",
          "traceback": [
            "\u001b[0;31m---------------------------------------------------------------------------\u001b[0m",
            "\u001b[0;31mTypeError\u001b[0m                                 Traceback (most recent call last)",
            "\u001b[0;32m<ipython-input-87-0f9906bb6bfd>\u001b[0m in \u001b[0;36m<module>\u001b[0;34m()\u001b[0m\n\u001b[0;32m----> 1\u001b[0;31m \u001b[0msay_hello\u001b[0m\u001b[0;34m(\u001b[0m\u001b[0;34m'afternoon'\u001b[0m\u001b[0;34m)\u001b[0m\u001b[0;34m\u001b[0m\u001b[0;34m\u001b[0m\u001b[0m\n\u001b[0m",
            "\u001b[0;31mTypeError\u001b[0m: say_hello() missing 1 required positional argument: 'people'"
          ]
        }
      ]
    },
    {
      "cell_type": "code",
      "metadata": {
        "colab_type": "code",
        "id": "lkwuwdTbvnzi",
        "colab": {}
      },
      "source": [
        "# Keyword arguments can be used to make some arguments optional by giving them a default value\n",
        "# All mandatory arguments must come first, in order\n",
        "def say_hello(time, people='friends'):\n",
        "    return 'Good ' + time + ', ' + people"
      ],
      "execution_count": 0,
      "outputs": []
    },
    {
      "cell_type": "code",
      "metadata": {
        "colab_type": "code",
        "id": "uu0JJu3gvnzm",
        "colab": {
          "base_uri": "https://localhost:8080/",
          "height": 35
        },
        "outputId": "6eae765a-8819-4374-e0a1-7d2b787a39e9"
      },
      "source": [
        "say_hello('afternoon')"
      ],
      "execution_count": 89,
      "outputs": [
        {
          "output_type": "execute_result",
          "data": {
            "text/plain": [
              "'Good afternoon, friends'"
            ]
          },
          "metadata": {
            "tags": []
          },
          "execution_count": 89
        }
      ]
    },
    {
      "cell_type": "code",
      "metadata": {
        "colab_type": "code",
        "id": "TBBThrMtvnzp",
        "colab": {
          "base_uri": "https://localhost:8080/",
          "height": 35
        },
        "outputId": "b7bfe1c5-0dc4-4942-df30-de8a78f6bab8"
      },
      "source": [
        "say_hello('afternoon', 'students')"
      ],
      "execution_count": 90,
      "outputs": [
        {
          "output_type": "execute_result",
          "data": {
            "text/plain": [
              "'Good afternoon, students'"
            ]
          },
          "metadata": {
            "tags": []
          },
          "execution_count": 90
        }
      ]
    },
    {
      "cell_type": "markdown",
      "metadata": {
        "colab_type": "text",
        "id": "ik3xHTOMvnzr"
      },
      "source": [
        "### EXERCISE 5 - Creating a variance function\n",
        "\n",
        "Finally, let's turn our variance calculation into a function that we can use over and over again. \n",
        "Copy your code from Exercise 4 into the box below, and do the following:\n",
        "\n",
        "1. Turn your code into a function called `calculate_variance` that takes a list of values and returns their variance.\n",
        "1. Write a nice docstring describing what your function does.\n",
        "1. In a subsequent cell, call your function with different sets of numbers to make sure it works.\n",
        "\n",
        "__Bonus__\n",
        "\n",
        "1. Refactor your function by pulling out the section that calculates the mean into another function, and calling that inside your `calculate_variance` function.\n",
        "2. Make sure it can works properly when all the data are integers as well.\n",
        "3. Give a better error message when it's passed an empty list. Use the web to find out how to raise exceptions in Python."
      ]
    },
    {
      "cell_type": "code",
      "metadata": {
        "colab_type": "code",
        "id": "DaDMWqWQvnzr",
        "colab": {}
      },
      "source": [
        ""
      ],
      "execution_count": 0,
      "outputs": []
    },
    {
      "cell_type": "markdown",
      "metadata": {
        "colab_type": "text",
        "id": "ct1q4hmvvnzt"
      },
      "source": [
        "### EXERCISE 6 - Putting the `calculate_mean` and `calculate_variance` function(s) in a module\n",
        "\n",
        "We can make our functions more easily reusable by placing them into modules that we can import, just\n",
        "like we have been doing with `numpy`. It's pretty simple to do this.\n",
        "\n",
        "1. Copy your function(s) into a new text file, in the same directory as this notebook,\n",
        "called `stats.py`.\n",
        "1. In the cell below, type `import stats` to import the module. Type `stats.` and hit tab to see the available\n",
        "functions in the module. Try calculating the variance of a number of samples of heights (or other random numbers) using your imported module."
      ]
    },
    {
      "cell_type": "code",
      "metadata": {
        "colab_type": "code",
        "id": "50Svve-lvnzu",
        "colab": {}
      },
      "source": [
        ""
      ],
      "execution_count": 0,
      "outputs": []
    }
  ]
}