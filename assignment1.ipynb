{
 "cells": [
  {
   "cell_type": "markdown",
   "metadata": {
    "colab_type": "text",
    "id": "view-in-github"
   },
   "source": [
    "<a href=\"https://colab.research.google.com/github/big-data-analytics-physics/handsonml_ch1/blob/master/assignment1.ipynb\" target=\"_parent\"><img src=\"https://colab.research.google.com/assets/colab-badge.svg\" alt=\"Open In Colab\"/></a>"
   ]
  },
  {
   "cell_type": "markdown",
   "metadata": {
    "colab_type": "text",
    "id": "uZLC-qIxAx_D"
   },
   "source": [
    "## Riddler Problem\n",
    "This notebook will be used to get a little practice with python.   The problem we will tackle is a [Riddler](https://fivethirtyeight.com/tag/the-riddler/).   These are a set of puzzles on the 538 website.   \n",
    "\n",
    "The problem we will tackle is \"Competitive Coin Flipping\", described [here](https://fivethirtyeight.com/features/the-new-national-pastime-competitive-coin-flipping/).\n",
    "\n",
    "Here is a snippet describing the problem:"
   ]
  },
  {
   "cell_type": "markdown",
   "metadata": {
    "colab_type": "text",
    "id": "McElDMMBAPki"
   },
   "source": [
    "From the website:  Riddler Nation recently legalized sports betting, and of course everyone is excited to risk some cash on the national pastime: competitive coin flipping.\n",
    "\n",
    "Every coin-flipping match is a faceoff between two teams. Each team selects a sequence of heads and/or tails to look for, and they simultaneously flip their own coin over and over until one team finds its sequence. If both teams find their sequences at the same time, they start over and flip until only team finds it. First to be the only team to have found its sequence wins.\n",
    "\n",
    "You decide to get in on the action and go to one of these events. When you arrive, you see that the Red Team has chosen the sequence “heads-tails,” while the Blue Team has chosen “heads-heads.” You can get even odds on either team. Which team should you put your money on?"
   ]
  },
  {
   "cell_type": "markdown",
   "metadata": {
    "colab_type": "text",
    "id": "ug8bAEhOB1Y5"
   },
   "source": [
    "## Your Task\n",
    "Write a python program to model this problem, and use the results to figure out if one team or the other is better to bet on.\n",
    "\n",
    "To begin this problem, we first need a random number generator, so we can simulate the flipping of a coin.   Go to google and type \"python random number between 0 and 1\".\n",
    "\n",
    "Use the information you find, and write a snippet of code to generate random numbers in a loop.    "
   ]
  },
  {
   "cell_type": "code",
   "execution_count": 0,
   "metadata": {
    "colab": {},
    "colab_type": "code",
    "id": "P6Tq7f7YCifq"
   },
   "outputs": [],
   "source": [
    "#\n",
    "# Import the appropriate python package\n",
    "import random\n",
    "#\n",
    "# Here is a for loop that runs from 0 to 9 (1 less than the argument of \"range\")\n",
    "for i in range(10):\n",
    "#\n",
    "  print(\"Trial \",i)\n",
    "# ***ADD YOUR CODE HERE***\n",
    "\n"
   ]
  },
  {
   "cell_type": "markdown",
   "metadata": {
    "colab_type": "text",
    "id": "G5wFn6HHCrHQ"
   },
   "source": [
    "We now need to simulate a coin flip.   Lets make a *method* to do just that.   Define heads as a random number greater or equal to 0.5, and tails as a number less than 0.5.   Have the method return a 1 if heads, and a 0 if tails."
   ]
  },
  {
   "cell_type": "code",
   "execution_count": 0,
   "metadata": {
    "colab": {},
    "colab_type": "code",
    "id": "5DeT6kALDIUz"
   },
   "outputs": [],
   "source": [
    "def coinFlip():\n",
    "#\n",
    "# Set default return value\n",
    "  flip = 0\n",
    "  val = 0.0\n",
    "#\n",
    "# ***ADD YOUR CODE HERE***\n",
    "#\n",
    "# Return the result\n",
    "  return flip, val"
   ]
  },
  {
   "cell_type": "markdown",
   "metadata": {
    "colab_type": "text",
    "id": "mVxIZROQNigC"
   },
   "source": [
    "\n",
    "\n",
    "---\n",
    "\n",
    "Now test the method: use a loop so you can try it many times.   If the random number generator is good, then over a long time you should get as many heads as tails.  Test this!"
   ]
  },
  {
   "cell_type": "code",
   "execution_count": 0,
   "metadata": {
    "colab": {},
    "colab_type": "code",
    "id": "sn-pAH80DaFr"
   },
   "outputs": [],
   "source": [
    "for i in range(1000):\n",
    "#\n",
    "# Flip the coin!\n",
    "  \n",
    "  \n",
    "#\n",
    "# Print the result\n",
    "  print(\"results\")\n",
    "#\n",
    "# How many total heads/tails were there?"
   ]
  },
  {
   "cell_type": "markdown",
   "metadata": {
    "colab_type": "text",
    "id": "gZp1GVw5Ebpq"
   },
   "source": [
    "\n",
    "\n",
    "---\n",
    "\n",
    "\n",
    "\n",
    "---\n",
    "\n",
    "Now lets run the compettitiopn.   The rules are:\n",
    "1) Each team does a flip\n",
    "2) Team HT looks for a sequence of \"Heads, then Tails\".   Team HH looks for a sequence of \"Heads, then Heads\".   If they both get the sequence they want on the same flip, they start over."
   ]
  },
  {
   "cell_type": "markdown",
   "metadata": {
    "colab_type": "text",
    "id": "ka0uq5DlLiUA"
   },
   "source": [
    "\n",
    "\n",
    "---\n",
    "\n",
    "Write a method to run the competition.  You have some starter code below which should help.   Things to remember:\n",
    "\n",
    "*   You need to keep track of the *last* flip of each team, as well as the current flip.\n",
    "*   If both teams get their sequence, you need to start over\n",
    "*   Once a team gets its sequence, the competition ends\n"
   ]
  },
  {
   "cell_type": "code",
   "execution_count": 0,
   "metadata": {
    "colab": {},
    "colab_type": "code",
    "id": "m9tKlr4NEbI2"
   },
   "outputs": [],
   "source": [
    "def runCompetition():\n",
    "  goodFlips = 0\n",
    "  winner = -1\n",
    "  last_ht_flip = -1\n",
    "  last_hh_flip = -1\n",
    "#\n",
    "# Could do this with a \"while\" loop, or just use a reall large number of trials\n",
    "  for trial in range(100):\n",
    "    ht_flip,ht_val = coinFlip()\n",
    "    hh_flip,hh_val = coinFlip()\n",
    "    #print(\"Trial \",trial,\"; flipNumber: \",flipNumber,\"; HT:\",ht_flip,\"; HH: \",hh_flip)\n",
    "  #\n",
    "  # Only check if flipNumber>0 (that is, we had at least 2 flips since last reset)\n",
    "    ht_good = 0     # set this to 1 below if team HT gets their sequence of HEADS-TAILS\n",
    "    hh_good = 0     # set this to 1 below if team HH gets their sequence of HEADS-HEADS\n",
    "    if goodFlips>0:\n",
    "      print(\"flips\",goodFlips)\n",
    "#\n",
    "# Check team HTs current flip AND its last flip\n",
    "#      *** ADD CODE HERE ***\n",
    "  \n",
    "#\n",
    "# Check team HHs current flip AND its last flip\n",
    "\n",
    "  \n",
    "#\n",
    "# Now check results of both teams:\n",
    "# ==> if both are good, reset goodFlips to zero\n",
    "# ==> elif one is good, set that one as the winner\n",
    "# ==> elif other is good, set that one as the winner\n",
    "\n",
    "#\n",
    "# If we got a winner, then leave loop\n",
    "    if winner>=0:\n",
    "      break\n",
    "#\n",
    "# NOW increment flipNumber and set last flips\n",
    "    goodFlips += 1\n",
    "    last_ht_flip = ht_flip\n",
    "    last_hh_flip = hh_flip\n",
    "#\n",
    "# We get here when we break out of the loop\n",
    "  return winner"
   ]
  },
  {
   "cell_type": "markdown",
   "metadata": {
    "colab_type": "text",
    "id": "48tiDQALMG0a"
   },
   "source": [
    "\n",
    "\n",
    "---\n",
    "\n",
    "\n",
    "\n",
    "---\n",
    "\n",
    "Now what we want to figure out is: which team is more likely to win?   That is, of we are given *even* odds, which team would we pick to win.   To determoine this, we simple need to call our competition method many times (say 1000), and count how often one team wins vs the other.   if there is no advantage to either team, then both should win about 500 times."
   ]
  },
  {
   "cell_type": "code",
   "execution_count": 0,
   "metadata": {
    "colab": {},
    "colab_type": "code",
    "id": "QxWCnqyeKeeZ"
   },
   "outputs": [],
   "source": [
    "\n",
    "winsHT = 0\n",
    "winsHH = 0\n",
    "for trials in range(1000):\n",
    "#\n",
    "# ***ADD code here***\n",
    "  print(\"trial \",trials)\n",
    "\n",
    "#\n",
    "# Print results\n"
   ]
  }
 ],
 "metadata": {
  "colab": {
   "collapsed_sections": [],
   "name": "assignment1.ipynb",
   "provenance": [],
   "version": "0.3.2"
  },
  "kernelspec": {
   "display_name": "Python 3",
   "language": "python",
   "name": "python3"
  },
  "language_info": {
   "codemirror_mode": {
    "name": "ipython",
    "version": 3
   },
   "file_extension": ".py",
   "mimetype": "text/x-python",
   "name": "python",
   "nbconvert_exporter": "python",
   "pygments_lexer": "ipython3",
   "version": "3.6.6"
  }
 },
 "nbformat": 4,
 "nbformat_minor": 1
}
